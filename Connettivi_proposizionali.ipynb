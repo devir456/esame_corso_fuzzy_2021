{
  "nbformat": 4,
  "nbformat_minor": 0,
  "metadata": {
    "colab": {
      "name": "Untitled0.ipynb",
      "provenance": []
    },
    "kernelspec": {
      "name": "python3",
      "display_name": "Python 3"
    }
  },
  "cells": [
    {
      "cell_type": "markdown",
      "metadata": {
        "id": "8omkoKkjeCRZ"
      },
      "source": [
        "# Connettivi proposizionali\r\n"
      ]
    },
    {
      "cell_type": "markdown",
      "metadata": {
        "id": "lZGJ6z1CeROT"
      },
      "source": [
        "# Connettivo AND\r\n"
      ]
    },
    {
      "cell_type": "code",
      "metadata": {
        "colab": {
          "base_uri": "https://localhost:8080/"
        },
        "id": "9In81re0ea6E",
        "outputId": "8aba35e5-c417-45c6-a2bf-84f0d15cf51d"
      },
      "source": [
        "valori_possibili = (False, True)\r\n",
        "\r\n",
        "for A in valori_possibili:\r\n",
        "  for B in valori_possibili:\r\n",
        "    print(f'{A} AND {B} = {A and B}')"
      ],
      "execution_count": null,
      "outputs": [
        {
          "output_type": "stream",
          "text": [
            "False AND False = False\n",
            "False AND True = False\n",
            "True AND False = False\n",
            "True AND True = True\n"
          ],
          "name": "stdout"
        }
      ]
    },
    {
      "cell_type": "markdown",
      "metadata": {
        "id": "Pxld4Nk8eyO3"
      },
      "source": [
        "# Connettivo OR\r\n"
      ]
    },
    {
      "cell_type": "code",
      "metadata": {
        "colab": {
          "base_uri": "https://localhost:8080/"
        },
        "id": "wHTK1ABae58c",
        "outputId": "5a905e5a-7cb4-417f-b0fe-36eca98aeb80"
      },
      "source": [
        "valori_possibili = (False, True)\r\n",
        "\r\n",
        "for A in valori_possibili:\r\n",
        "  for B in valori_possibili:\r\n",
        "    print(f'{A} OR {B} = {A or B}')"
      ],
      "execution_count": null,
      "outputs": [
        {
          "output_type": "stream",
          "text": [
            "False OR False = False\n",
            "False OR True = True\n",
            "True OR False = True\n",
            "True OR True = True\n"
          ],
          "name": "stdout"
        }
      ]
    },
    {
      "cell_type": "markdown",
      "metadata": {
        "id": "gibRuYP_fBWJ"
      },
      "source": [
        "# Connettivo XOR\r\n"
      ]
    },
    {
      "cell_type": "code",
      "metadata": {
        "colab": {
          "base_uri": "https://localhost:8080/"
        },
        "id": "AbyD-eelfKtB",
        "outputId": "4fea3bc8-9d03-486c-d861-eb4bf4e9d145"
      },
      "source": [
        "valori_possibili = (False, True)\r\n",
        "\r\n",
        "for A in valori_possibili:\r\n",
        "  for B in valori_possibili:\r\n",
        "    print(f'{A} XOR {B} = {(not A and B) or (A and not B)}')"
      ],
      "execution_count": null,
      "outputs": [
        {
          "output_type": "stream",
          "text": [
            "False XOR False = False\n",
            "False XOR True = True\n",
            "True XOR False = True\n",
            "True XOR True = False\n"
          ],
          "name": "stdout"
        }
      ]
    },
    {
      "cell_type": "markdown",
      "metadata": {
        "id": "J1B-fnnlfO2W"
      },
      "source": [
        "# Connettivo ->\r\n"
      ]
    },
    {
      "cell_type": "code",
      "metadata": {
        "id": "_ZPG1HpufUGH"
      },
      "source": [
        "def freccia(ipotesi,tesi):\r\n",
        "  return (not ipotesi or tesi)"
      ],
      "execution_count": null,
      "outputs": []
    },
    {
      "cell_type": "code",
      "metadata": {
        "colab": {
          "base_uri": "https://localhost:8080/"
        },
        "id": "wBHxyVDpfYYM",
        "outputId": "04a34fe9-2be3-46de-9b36-044037736709"
      },
      "source": [
        "valori_possibili = (False, True)\r\n",
        "\r\n",
        "for A in valori_possibili:\r\n",
        "  for B in valori_possibili:\r\n",
        "    print(f'{A} -> {B} = {freccia(A,B)}')"
      ],
      "execution_count": null,
      "outputs": [
        {
          "output_type": "stream",
          "text": [
            "False -> False = True\n",
            "False -> True = True\n",
            "True -> False = False\n",
            "True -> True = True\n"
          ],
          "name": "stdout"
        }
      ]
    },
    {
      "cell_type": "markdown",
      "metadata": {
        "id": "RovFQASffebm"
      },
      "source": [
        "# Connettivo NOT\r\n"
      ]
    },
    {
      "cell_type": "code",
      "metadata": {
        "colab": {
          "base_uri": "https://localhost:8080/"
        },
        "id": "hMrxBLJKfif4",
        "outputId": "edaf6940-5302-4eeb-df14-e19535965c88"
      },
      "source": [
        "valori_possibili = (False, True)\r\n",
        "\r\n",
        "for A in valori_possibili:\r\n",
        "  print(f'NOT {A} = {not A} ')"
      ],
      "execution_count": null,
      "outputs": [
        {
          "output_type": "stream",
          "text": [
            "NOT False = True \n",
            "NOT True = False \n"
          ],
          "name": "stdout"
        }
      ]
    },
    {
      "cell_type": "markdown",
      "metadata": {
        "id": "99rYqeURfou8"
      },
      "source": [
        "# Connettivo AND via NOT e OR\r\n"
      ]
    },
    {
      "cell_type": "code",
      "metadata": {
        "colab": {
          "base_uri": "https://localhost:8080/"
        },
        "id": "Hio0uftofq5x",
        "outputId": "3df6a0b4-e6ce-42bc-9b3a-e592523c2cd0"
      },
      "source": [
        "valori_possibili = (False, True)\r\n",
        "\r\n",
        "for A in valori_possibili:\r\n",
        "  for B in valori_possibili:\r\n",
        "    print(f'{A} AND {B} = {not( (not A) or (not B) )}')"
      ],
      "execution_count": null,
      "outputs": [
        {
          "output_type": "stream",
          "text": [
            "False AND False = False\n",
            "False AND True = False\n",
            "True AND False = False\n",
            "True AND True = True\n"
          ],
          "name": "stdout"
        }
      ]
    },
    {
      "cell_type": "markdown",
      "metadata": {
        "id": "4oovU6_Xft8p"
      },
      "source": [
        "# Libreria funzioni connettivi\r\n"
      ]
    },
    {
      "cell_type": "code",
      "metadata": {
        "id": "tktXYWqnfxSx"
      },
      "source": [
        "def e(var1,var2):\r\n",
        "  return var1 and var2\r\n",
        "\r\n",
        "def o(var1,var2):\r\n",
        "  return var1 or var2\r\n",
        "\r\n",
        "def freccia(ipotesi,tesi):\r\n",
        "  return (not ipotesi or tesi)\r\n",
        "\r\n",
        "def oppure(var1,var2):\r\n",
        "  return (not var1 and var2) or (var1 and not var2)"
      ],
      "execution_count": null,
      "outputs": []
    },
    {
      "cell_type": "code",
      "metadata": {
        "id": "lXq2BBHdfzdq"
      },
      "source": [
        "def stampa_tabella(formula):\r\n",
        "  valori_possibili = (False, True)\r\n",
        "\r\n",
        "  for A in valori_possibili:\r\n",
        "    for B in valori_possibili:\r\n",
        "      print(f'{formula(A,B)}')"
      ],
      "execution_count": null,
      "outputs": []
    },
    {
      "cell_type": "code",
      "metadata": {
        "colab": {
          "base_uri": "https://localhost:8080/"
        },
        "id": "VzGBC_8XgDYd",
        "outputId": "afecab50-1003-4403-c5d5-c972d17f1bf5"
      },
      "source": [
        "stampa_tabella(oppure)"
      ],
      "execution_count": null,
      "outputs": [
        {
          "output_type": "stream",
          "text": [
            "False\n",
            "True\n",
            "True\n",
            "False\n"
          ],
          "name": "stdout"
        }
      ]
    },
    {
      "cell_type": "code",
      "metadata": {
        "id": "dFOe9GFCgG7T",
        "colab": {
          "base_uri": "https://localhost:8080/"
        },
        "outputId": "dac50b46-f8c2-46c1-9d10-86ebae154983"
      },
      "source": [
        "stampa_tabella(freccia)"
      ],
      "execution_count": null,
      "outputs": [
        {
          "output_type": "stream",
          "text": [
            "True\n",
            "True\n",
            "False\n",
            "True\n"
          ],
          "name": "stdout"
        }
      ]
    },
    {
      "cell_type": "code",
      "metadata": {
        "id": "y1LZ7y8xKhSx",
        "colab": {
          "base_uri": "https://localhost:8080/"
        },
        "outputId": "024b0c6c-9e0c-48b1-e549-da7bdce7bc1f"
      },
      "source": [
        "stampa_tabella(o)"
      ],
      "execution_count": null,
      "outputs": [
        {
          "output_type": "stream",
          "text": [
            "False\n",
            "True\n",
            "True\n",
            "True\n"
          ],
          "name": "stdout"
        }
      ]
    },
    {
      "cell_type": "code",
      "metadata": {
        "id": "hC-2rLN7K15R",
        "colab": {
          "base_uri": "https://localhost:8080/"
        },
        "outputId": "050a3ab2-3157-4947-ad64-f2ed50aef706"
      },
      "source": [
        "stampa_tabella(e)"
      ],
      "execution_count": null,
      "outputs": [
        {
          "output_type": "stream",
          "text": [
            "False\n",
            "False\n",
            "False\n",
            "True\n"
          ],
          "name": "stdout"
        }
      ]
    },
    {
      "cell_type": "code",
      "metadata": {
        "id": "Q8fnMCUKK3Xs"
      },
      "source": [
        ""
      ],
      "execution_count": null,
      "outputs": []
    }
  ]
}