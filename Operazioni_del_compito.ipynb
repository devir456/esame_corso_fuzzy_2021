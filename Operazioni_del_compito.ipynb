{
  "nbformat": 4,
  "nbformat_minor": 0,
  "metadata": {
    "colab": {
      "name": "Untitled4.ipynb",
      "provenance": []
    },
    "kernelspec": {
      "name": "python3",
      "display_name": "Python 3"
    }
  },
  "cells": [
    {
      "cell_type": "code",
      "metadata": {
        "id": "SST06olcBa6H"
      },
      "source": [
        "def a(var1): \r\n",
        "  return var1 or (not var1)\r\n",
        "\r\n",
        "def b(var1, var2):\r\n",
        "  return (not (not var1) or var2)"
      ],
      "execution_count": 10,
      "outputs": []
    },
    {
      "cell_type": "code",
      "metadata": {
        "id": "WXuFjbjHDWw6"
      },
      "source": [
        "def stampa_tabella(formula):\r\n",
        "  valori = (0,1)\r\n",
        " \r\n",
        "  if formula == 'a':\r\n",
        "    for A in valori:\r\n",
        "      print(f'{A} | {eval(formula+\"(A)\")}')\r\n",
        "      \r\n",
        "  else:               \r\n",
        "    for A in valori:\r\n",
        "      for B in valori:\r\n",
        "        print(f' {A} | {B} | {eval(formula+\"(A,B)\")}')\r\n",
        "         "
      ],
      "execution_count": 11,
      "outputs": []
    },
    {
      "cell_type": "code",
      "metadata": {
        "colab": {
          "base_uri": "https://localhost:8080/"
        },
        "id": "G2hmZ0C7Dgy3",
        "outputId": "32bdd81a-2813-4777-8686-b240b63dbe22"
      },
      "source": [
        "\r\n",
        "risposta = 'si'\r\n",
        "while risposta == 'si':\r\n",
        "  \r\n",
        "  operazione = input('Quale Operazione Vuoi Effettuare? \"a\" \"b\"')\r\n",
        "  stampa_tabella(operazione)\r\n",
        "  risposta = input('\\nUn\\'altra Operazione? Si, no')\r\n"
      ],
      "execution_count": 12,
      "outputs": [
        {
          "output_type": "stream",
          "text": [
            "Quale Operazione Vuoi Effettuare? \"a\" \"b\"a\n",
            "0 | True\n",
            "1 | 1\n",
            "\n",
            "Un'altra Operazione? Si, nosi\n",
            "Quale Operazione Vuoi Effettuare? \"a\" \"b\"b\n",
            " 0 | 0 | 0\n",
            " 0 | 1 | 1\n",
            " 1 | 0 | True\n",
            " 1 | 1 | True\n",
            "\n",
            "Un'altra Operazione? Si, nono\n"
          ],
          "name": "stdout"
        }
      ]
    }
  ]
}